{
 "cells": [
  {
   "cell_type": "code",
   "execution_count": 1,
   "id": "407762b3-b153-4b5c-aa9b-8b22b8630a60",
   "metadata": {},
   "outputs": [
    {
     "name": "stderr",
     "output_type": "stream",
     "text": [
      "C:\\Users\\Brock\\AppData\\Local\\Programs\\Python\\Python312\\Lib\\site-packages\\tqdm\\auto.py:21: TqdmWarning: IProgress not found. Please update jupyter and ipywidgets. See https://ipywidgets.readthedocs.io/en/stable/user_install.html\n",
      "  from .autonotebook import tqdm as notebook_tqdm\n"
     ]
    }
   ],
   "source": [
    "from transformers import AutoModelForCausalLM, AutoTokenizer\n",
    "from PIL import Image, ImageDraw\n",
    "from IPython.display import display\n",
    "from time import time"
   ]
  },
  {
   "cell_type": "code",
   "execution_count": 2,
   "id": "cbf051dd-1d33-402c-89e8-fb1d5870643c",
   "metadata": {},
   "outputs": [],
   "source": [
    "\n",
    "\n",
    "model = AutoModelForCausalLM.from_pretrained(\n",
    "    \"vikhyatk/moondream2\",\n",
    "    revision=\"2025-04-14\",\n",
    "    trust_remote_code=True,\n",
    "    device_map={\"\": \"cuda\"}\n",
    ")"
   ]
  },
  {
   "cell_type": "code",
   "execution_count": null,
   "id": "1b7f31ea-7467-42fd-8ed8-293d0965e7ec",
   "metadata": {},
   "outputs": [],
   "source": [
    "def point(thing_to_find, color = (0, 255, 0)):\n",
    "    # Pointing\n",
    "    print(f\"\\nPointing: '{thing_to_find}'\")\n",
    "    start_time = time()\n",
    "    points = model.point(original_image, thing_to_find)[\"points\"]\n",
    "    end_time = time()\n",
    "    time_taken = end_time - start_time\n",
    "    print(\"Seconds taken:\", round(time_taken, 2))\n",
    "    image = original_image.copy()\n",
    "    print(f\"Found {len(points)} {thing_to_find}(s)\")\n",
    "    \n",
    "    # create a copy of the image\n",
    "    \n",
    "    # draw the points on the image\n",
    "    for point in points:\n",
    "        # point.x and point.y are normalized between 0 and 1, so we need to convert them to the image size\n",
    "        x = int(point['x'] * image.width)\n",
    "        y = int(point['y'] * image.height)\n",
    "        # Draw a large green circle at the point\n",
    "        draw = ImageDraw.Draw(image)\n",
    "        draw.ellipse((x-10, y-10, x+10, y+10), fill=(color), outline=color)\n",
    "    \n",
    "    # show the image\n",
    "    display(image)\n"
   ]
  },
  {
   "cell_type": "code",
   "execution_count": null,
   "id": "752effaa-eb3c-4f52-bc0b-8129a60e370d",
   "metadata": {},
   "outputs": [
    {
     "name": "stdout",
     "output_type": "stream",
     "text": [
      "Short caption:\n",
      " A woman in a pink blouse and glasses smiles warmly, extending her hand for a handshake, while a group of casually dressed individuals stand behind her in a professional setting.\n",
      "\n",
      "Normal caption:\n",
      " The image shows a woman in a light pink blouse and glasses extending her hand in a friendly gesture towards the camera. She is standing in front of a group of six other individuals, who are dressed in business casual attire. The group is arranged in a line, with the woman in the foreground being the central figure. The background is a dark teal or blue-green color, and the individuals are slightly blurred, suggesting a shallow depth of field. The woman in the foreground is holding a disposable coffee cup in her left hand.{'caption': ' The image shows a woman in a light pink blouse and glasses extending her hand in a friendly gesture towards the camera. She is standing in front of a group of six other individuals, who are dressed in business casual attire. The group is arranged in a line, with the woman in the foreground being the central figure. The background is a dark teal or blue-green color, and the individuals are standing against a dark green or black wall. The woman in the foreground is holding a disposable coffee cup in her left hand.'}\n",
      "\n",
      "Visual query: 'How many people are in the image?'\n",
      " There are six people in the image.\n",
      "\n",
      "Object detection: 'face'\n",
      "Found 6 face(s)\n",
      "\n",
      "Pointing: 'person holding a cup of coffee'\n",
      "Found 1 person holding a cup of coffee(s)\n"
     ]
    }
   ],
   "source": [
    "image = Image.open(\"C:\\\\Users\\\\Brock\\\\Documents\\\\code\\\\omnibot_2000\\\\test_image.png\")\n",
    "original_image = image.copy()\n",
    "\n",
    "# Captioning\n",
    "print(\"Short caption:\")\n",
    "print(model.caption(image, length=\"short\")[\"caption\"])\n",
    "\n",
    "print(\"\\nNormal caption:\")\n",
    "for t in model.caption(image, length=\"normal\", stream=True)[\"caption\"]:\n",
    "    # Streaming generation example, supported for caption() and detect()\n",
    "    print(t, end=\"\", flush=True)\n",
    "print(model.caption(image, length=\"normal\"))\n",
    "\n",
    "# Visual Querying\n",
    "print(\"\\nVisual query: 'How many people are in the image?'\")\n",
    "print(model.query(image, \"How many people are in the image?\")[\"answer\"])\n",
    "\n",
    "# Object Detection\n",
    "print(\"\\nObject detection: 'face'\")\n",
    "objects = model.detect(image, \"face\")[\"objects\"]\n",
    "print(f\"Found {len(objects)} face(s)\")"
   ]
  },
  {
   "cell_type": "code",
   "execution_count": null,
   "id": "e8532006-bf4e-4e76-b173-393ea5e24401",
   "metadata": {},
   "outputs": [],
   "source": [
    "point(\"people\")"
   ]
  },
  {
   "cell_type": "code",
   "execution_count": null,
   "id": "16d563ed-7e11-4ca0-ae02-1f1da102a25d",
   "metadata": {},
   "outputs": [],
   "source": [
    "point(\"glasses\")"
   ]
  },
  {
   "cell_type": "code",
   "execution_count": null,
   "id": "7c2ec441-5223-4978-ae9e-264a18d74561",
   "metadata": {},
   "outputs": [],
   "source": [
    "point(\"hands\")"
   ]
  },
  {
   "cell_type": "code",
   "execution_count": null,
   "id": "d0a96a1b-d61e-4e38-9e34-7cde2a0253ee",
   "metadata": {},
   "outputs": [],
   "source": [
    "point(\"nose\", color = (255, 0, 0))"
   ]
  },
  {
   "cell_type": "code",
   "execution_count": null,
   "id": "33ba91a4-0b6a-47ee-9bf3-70fdcf7d13a6",
   "metadata": {},
   "outputs": [],
   "source": []
  }
 ],
 "metadata": {
  "kernelspec": {
   "display_name": "Python 3 (ipykernel)",
   "language": "python",
   "name": "python3"
  },
  "language_info": {
   "codemirror_mode": {
    "name": "ipython",
    "version": 3
   },
   "file_extension": ".py",
   "mimetype": "text/x-python",
   "name": "python",
   "nbconvert_exporter": "python",
   "pygments_lexer": "ipython3",
   "version": "3.12.4"
  }
 },
 "nbformat": 4,
 "nbformat_minor": 5
}
